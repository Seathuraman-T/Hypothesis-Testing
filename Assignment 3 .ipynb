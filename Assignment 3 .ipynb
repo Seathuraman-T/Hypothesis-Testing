{
 "cells": [
  {
   "cell_type": "markdown",
   "id": "fb950be2",
   "metadata": {
    "ExecuteTime": {
     "end_time": "2023-04-14T08:24:04.302908Z",
     "start_time": "2023-04-14T08:24:04.293899Z"
    }
   },
   "source": [
    "Assignment 3 - Q1"
   ]
  },
  {
   "cell_type": "code",
   "execution_count": 89,
   "id": "3e609cfa",
   "metadata": {
    "ExecuteTime": {
     "end_time": "2023-04-14T16:42:10.592099Z",
     "start_time": "2023-04-14T16:42:10.527048Z"
    }
   },
   "outputs": [],
   "source": [
    "import pandas as pd\n",
    "import seaborn as sns\n",
    "from scipy import stats\n",
    "from scipy.stats import norm\n",
    "from scipy.stats import shapiro\n",
    "import numpy as np"
   ]
  },
  {
   "cell_type": "code",
   "execution_count": 90,
   "id": "954b992d",
   "metadata": {
    "ExecuteTime": {
     "end_time": "2023-04-14T16:42:10.894418Z",
     "start_time": "2023-04-14T16:42:10.764858Z"
    }
   },
   "outputs": [],
   "source": [
    "df = pd.read_csv(\"D:\\Assignment\\Cutlets.csv\")"
   ]
  },
  {
   "cell_type": "code",
   "execution_count": 91,
   "id": "176626a8",
   "metadata": {
    "ExecuteTime": {
     "end_time": "2023-04-14T16:42:11.043461Z",
     "start_time": "2023-04-14T16:42:10.976841Z"
    }
   },
   "outputs": [
    {
     "data": {
      "text/plain": [
       "<bound method NDFrame.head of     Unit A  Unit B\n",
       "0   6.8090  6.7703\n",
       "1   6.4376  7.5093\n",
       "2   6.9157  6.7300\n",
       "3   7.3012  6.7878\n",
       "4   7.4488  7.1522\n",
       "5   7.3871  6.8110\n",
       "6   6.8755  7.2212\n",
       "7   7.0621  6.6606\n",
       "8   6.6840  7.2402\n",
       "9   6.8236  7.0503\n",
       "10  7.3930  6.8810\n",
       "11  7.5169  7.4059\n",
       "12  6.9246  6.7652\n",
       "13  6.9256  6.0380\n",
       "14  6.5797  7.1581\n",
       "15  6.8394  7.0240\n",
       "16  6.5970  6.6672\n",
       "17  7.2705  7.4314\n",
       "18  7.2828  7.3070\n",
       "19  7.3495  6.7478\n",
       "20  6.9438  6.8889\n",
       "21  7.1560  7.4220\n",
       "22  6.5341  6.5217\n",
       "23  7.2854  7.1688\n",
       "24  6.9952  6.7594\n",
       "25  6.8568  6.9399\n",
       "26  7.2163  7.0133\n",
       "27  6.6801  6.9182\n",
       "28  6.9431  6.3346\n",
       "29  7.0852  7.5459\n",
       "30  6.7794  7.0992\n",
       "31  7.2783  7.1180\n",
       "32  7.1561  6.6965\n",
       "33  7.3943  6.5780\n",
       "34  6.9405  7.3875>"
      ]
     },
     "execution_count": 91,
     "metadata": {},
     "output_type": "execute_result"
    }
   ],
   "source": [
    "df.head"
   ]
  },
  {
   "cell_type": "code",
   "execution_count": 92,
   "id": "e393f725",
   "metadata": {
    "ExecuteTime": {
     "end_time": "2023-04-14T16:42:11.234038Z",
     "start_time": "2023-04-14T16:42:11.144436Z"
    }
   },
   "outputs": [
    {
     "data": {
      "text/html": [
       "<div>\n",
       "<style scoped>\n",
       "    .dataframe tbody tr th:only-of-type {\n",
       "        vertical-align: middle;\n",
       "    }\n",
       "\n",
       "    .dataframe tbody tr th {\n",
       "        vertical-align: top;\n",
       "    }\n",
       "\n",
       "    .dataframe thead th {\n",
       "        text-align: right;\n",
       "    }\n",
       "</style>\n",
       "<table border=\"1\" class=\"dataframe\">\n",
       "  <thead>\n",
       "    <tr style=\"text-align: right;\">\n",
       "      <th></th>\n",
       "      <th>Unit A</th>\n",
       "      <th>Unit B</th>\n",
       "    </tr>\n",
       "  </thead>\n",
       "  <tbody>\n",
       "    <tr>\n",
       "      <th>count</th>\n",
       "      <td>35.000000</td>\n",
       "      <td>35.000000</td>\n",
       "    </tr>\n",
       "    <tr>\n",
       "      <th>mean</th>\n",
       "      <td>7.019091</td>\n",
       "      <td>6.964297</td>\n",
       "    </tr>\n",
       "    <tr>\n",
       "      <th>std</th>\n",
       "      <td>0.288408</td>\n",
       "      <td>0.343401</td>\n",
       "    </tr>\n",
       "    <tr>\n",
       "      <th>min</th>\n",
       "      <td>6.437600</td>\n",
       "      <td>6.038000</td>\n",
       "    </tr>\n",
       "    <tr>\n",
       "      <th>25%</th>\n",
       "      <td>6.831500</td>\n",
       "      <td>6.753600</td>\n",
       "    </tr>\n",
       "    <tr>\n",
       "      <th>50%</th>\n",
       "      <td>6.943800</td>\n",
       "      <td>6.939900</td>\n",
       "    </tr>\n",
       "    <tr>\n",
       "      <th>75%</th>\n",
       "      <td>7.280550</td>\n",
       "      <td>7.195000</td>\n",
       "    </tr>\n",
       "    <tr>\n",
       "      <th>max</th>\n",
       "      <td>7.516900</td>\n",
       "      <td>7.545900</td>\n",
       "    </tr>\n",
       "  </tbody>\n",
       "</table>\n",
       "</div>"
      ],
      "text/plain": [
       "          Unit A     Unit B\n",
       "count  35.000000  35.000000\n",
       "mean    7.019091   6.964297\n",
       "std     0.288408   0.343401\n",
       "min     6.437600   6.038000\n",
       "25%     6.831500   6.753600\n",
       "50%     6.943800   6.939900\n",
       "75%     7.280550   7.195000\n",
       "max     7.516900   7.545900"
      ]
     },
     "execution_count": 92,
     "metadata": {},
     "output_type": "execute_result"
    }
   ],
   "source": [
    "df.describe()"
   ]
  },
  {
   "cell_type": "code",
   "execution_count": 93,
   "id": "1d8ba917",
   "metadata": {
    "ExecuteTime": {
     "end_time": "2023-04-14T16:42:11.375964Z",
     "start_time": "2023-04-14T16:42:11.359302Z"
    }
   },
   "outputs": [],
   "source": [
    "#normality check for normal distribution"
   ]
  },
  {
   "cell_type": "code",
   "execution_count": 94,
   "id": "c46b7395",
   "metadata": {
    "ExecuteTime": {
     "end_time": "2023-04-14T16:42:11.574189Z",
     "start_time": "2023-04-14T16:42:11.543309Z"
    }
   },
   "outputs": [],
   "source": [
    "a_normal = shapiro(df['Unit A'])"
   ]
  },
  {
   "cell_type": "code",
   "execution_count": 95,
   "id": "86bf4495",
   "metadata": {
    "ExecuteTime": {
     "end_time": "2023-04-14T16:42:11.775867Z",
     "start_time": "2023-04-14T16:42:11.745385Z"
    }
   },
   "outputs": [
    {
     "data": {
      "text/plain": [
       "ShapiroResult(statistic=0.9649458527565002, pvalue=0.3199819028377533)"
      ]
     },
     "execution_count": 95,
     "metadata": {},
     "output_type": "execute_result"
    }
   ],
   "source": [
    "a_normal"
   ]
  },
  {
   "cell_type": "code",
   "execution_count": 96,
   "id": "2d598151",
   "metadata": {
    "ExecuteTime": {
     "end_time": "2023-04-14T16:42:11.975792Z",
     "start_time": "2023-04-14T16:42:11.944993Z"
    }
   },
   "outputs": [],
   "source": [
    "b_normal = shapiro(df['Unit B'])"
   ]
  },
  {
   "cell_type": "code",
   "execution_count": 97,
   "id": "b180ce7c",
   "metadata": {
    "ExecuteTime": {
     "end_time": "2023-04-14T16:42:12.159098Z",
     "start_time": "2023-04-14T16:42:12.143356Z"
    }
   },
   "outputs": [
    {
     "data": {
      "text/plain": [
       "ShapiroResult(statistic=0.9727300405502319, pvalue=0.5224985480308533)"
      ]
     },
     "execution_count": 97,
     "metadata": {},
     "output_type": "execute_result"
    }
   ],
   "source": [
    "b_normal"
   ]
  },
  {
   "cell_type": "code",
   "execution_count": 98,
   "id": "05cc7e74",
   "metadata": {
    "ExecuteTime": {
     "end_time": "2023-04-14T16:42:12.392313Z",
     "start_time": "2023-04-14T16:42:12.359871Z"
    }
   },
   "outputs": [],
   "source": [
    "# Since a_normal and b_normal >= 0.05 . we accept H0 Unit A and B are normally dist."
   ]
  },
  {
   "cell_type": "code",
   "execution_count": 99,
   "id": "5a8785a1",
   "metadata": {
    "ExecuteTime": {
     "end_time": "2023-04-14T16:42:12.592237Z",
     "start_time": "2023-04-14T16:42:12.559720Z"
    }
   },
   "outputs": [],
   "source": [
    "# 2 samples, two tailed test is cnducted"
   ]
  },
  {
   "cell_type": "code",
   "execution_count": 100,
   "id": "9cbe5557",
   "metadata": {
    "ExecuteTime": {
     "end_time": "2023-04-14T16:42:12.858855Z",
     "start_time": "2023-04-14T16:42:12.776334Z"
    }
   },
   "outputs": [],
   "source": [
    "pval = stats.ttest_ind(df['Unit A'], df['Unit B'])"
   ]
  },
  {
   "cell_type": "code",
   "execution_count": 101,
   "id": "f3192b29",
   "metadata": {
    "ExecuteTime": {
     "end_time": "2023-04-14T16:42:13.008803Z",
     "start_time": "2023-04-14T16:42:12.992938Z"
    }
   },
   "outputs": [
    {
     "data": {
      "text/plain": [
       "Ttest_indResult(statistic=0.7228688704678063, pvalue=0.4722394724599501)"
      ]
     },
     "execution_count": 101,
     "metadata": {},
     "output_type": "execute_result"
    }
   ],
   "source": [
    "pval"
   ]
  },
  {
   "cell_type": "code",
   "execution_count": 102,
   "id": "41cf93f9",
   "metadata": {
    "ExecuteTime": {
     "end_time": "2023-04-14T16:42:13.242071Z",
     "start_time": "2023-04-14T16:42:13.209544Z"
    }
   },
   "outputs": [],
   "source": [
    "#Pvalue > 0.05 - Ho is accepted (no significant difference between the two units of cutlets) "
   ]
  },
  {
   "cell_type": "markdown",
   "id": "958de41d",
   "metadata": {
    "ExecuteTime": {
     "end_time": "2023-04-14T08:24:31.716261Z",
     "start_time": "2023-04-14T08:24:31.534200Z"
    }
   },
   "source": [
    "Q2"
   ]
  },
  {
   "cell_type": "code",
   "execution_count": 103,
   "id": "a4e11c1a",
   "metadata": {
    "ExecuteTime": {
     "end_time": "2023-04-14T16:42:13.726174Z",
     "start_time": "2023-04-14T16:42:13.710561Z"
    }
   },
   "outputs": [],
   "source": [
    "#H0 - 4 labs having same TAT's \n",
    "#H1 - having different TAT's"
   ]
  },
  {
   "cell_type": "code",
   "execution_count": 104,
   "id": "4c062daf",
   "metadata": {
    "ExecuteTime": {
     "end_time": "2023-04-14T16:42:14.040070Z",
     "start_time": "2023-04-14T16:42:14.009300Z"
    }
   },
   "outputs": [],
   "source": [
    "df1 = pd.read_csv(\"D:\\Assignment\\LabTAT.csv\")"
   ]
  },
  {
   "cell_type": "code",
   "execution_count": 105,
   "id": "4f3768f4",
   "metadata": {
    "ExecuteTime": {
     "end_time": "2023-04-14T16:42:14.282724Z",
     "start_time": "2023-04-14T16:42:14.225768Z"
    }
   },
   "outputs": [
    {
     "data": {
      "text/html": [
       "<div>\n",
       "<style scoped>\n",
       "    .dataframe tbody tr th:only-of-type {\n",
       "        vertical-align: middle;\n",
       "    }\n",
       "\n",
       "    .dataframe tbody tr th {\n",
       "        vertical-align: top;\n",
       "    }\n",
       "\n",
       "    .dataframe thead th {\n",
       "        text-align: right;\n",
       "    }\n",
       "</style>\n",
       "<table border=\"1\" class=\"dataframe\">\n",
       "  <thead>\n",
       "    <tr style=\"text-align: right;\">\n",
       "      <th></th>\n",
       "      <th>Laboratory 1</th>\n",
       "      <th>Laboratory 2</th>\n",
       "      <th>Laboratory 3</th>\n",
       "      <th>Laboratory 4</th>\n",
       "    </tr>\n",
       "  </thead>\n",
       "  <tbody>\n",
       "    <tr>\n",
       "      <th>0</th>\n",
       "      <td>185.35</td>\n",
       "      <td>165.53</td>\n",
       "      <td>176.70</td>\n",
       "      <td>166.13</td>\n",
       "    </tr>\n",
       "    <tr>\n",
       "      <th>1</th>\n",
       "      <td>170.49</td>\n",
       "      <td>185.91</td>\n",
       "      <td>198.45</td>\n",
       "      <td>160.79</td>\n",
       "    </tr>\n",
       "    <tr>\n",
       "      <th>2</th>\n",
       "      <td>192.77</td>\n",
       "      <td>194.92</td>\n",
       "      <td>201.23</td>\n",
       "      <td>185.18</td>\n",
       "    </tr>\n",
       "    <tr>\n",
       "      <th>3</th>\n",
       "      <td>177.33</td>\n",
       "      <td>183.00</td>\n",
       "      <td>199.61</td>\n",
       "      <td>176.42</td>\n",
       "    </tr>\n",
       "    <tr>\n",
       "      <th>4</th>\n",
       "      <td>193.41</td>\n",
       "      <td>169.57</td>\n",
       "      <td>204.63</td>\n",
       "      <td>152.60</td>\n",
       "    </tr>\n",
       "    <tr>\n",
       "      <th>...</th>\n",
       "      <td>...</td>\n",
       "      <td>...</td>\n",
       "      <td>...</td>\n",
       "      <td>...</td>\n",
       "    </tr>\n",
       "    <tr>\n",
       "      <th>115</th>\n",
       "      <td>178.49</td>\n",
       "      <td>170.66</td>\n",
       "      <td>193.80</td>\n",
       "      <td>172.68</td>\n",
       "    </tr>\n",
       "    <tr>\n",
       "      <th>116</th>\n",
       "      <td>176.08</td>\n",
       "      <td>183.98</td>\n",
       "      <td>215.25</td>\n",
       "      <td>177.64</td>\n",
       "    </tr>\n",
       "    <tr>\n",
       "      <th>117</th>\n",
       "      <td>202.48</td>\n",
       "      <td>174.54</td>\n",
       "      <td>203.99</td>\n",
       "      <td>170.27</td>\n",
       "    </tr>\n",
       "    <tr>\n",
       "      <th>118</th>\n",
       "      <td>182.40</td>\n",
       "      <td>197.18</td>\n",
       "      <td>194.52</td>\n",
       "      <td>150.87</td>\n",
       "    </tr>\n",
       "    <tr>\n",
       "      <th>119</th>\n",
       "      <td>182.09</td>\n",
       "      <td>215.17</td>\n",
       "      <td>221.49</td>\n",
       "      <td>162.21</td>\n",
       "    </tr>\n",
       "  </tbody>\n",
       "</table>\n",
       "<p>120 rows × 4 columns</p>\n",
       "</div>"
      ],
      "text/plain": [
       "     Laboratory 1  Laboratory 2  Laboratory 3  Laboratory 4\n",
       "0          185.35        165.53        176.70        166.13\n",
       "1          170.49        185.91        198.45        160.79\n",
       "2          192.77        194.92        201.23        185.18\n",
       "3          177.33        183.00        199.61        176.42\n",
       "4          193.41        169.57        204.63        152.60\n",
       "..            ...           ...           ...           ...\n",
       "115        178.49        170.66        193.80        172.68\n",
       "116        176.08        183.98        215.25        177.64\n",
       "117        202.48        174.54        203.99        170.27\n",
       "118        182.40        197.18        194.52        150.87\n",
       "119        182.09        215.17        221.49        162.21\n",
       "\n",
       "[120 rows x 4 columns]"
      ]
     },
     "execution_count": 105,
     "metadata": {},
     "output_type": "execute_result"
    }
   ],
   "source": [
    "df1"
   ]
  },
  {
   "cell_type": "code",
   "execution_count": 106,
   "id": "342a91b5",
   "metadata": {
    "ExecuteTime": {
     "end_time": "2023-04-14T16:42:14.502969Z",
     "start_time": "2023-04-14T16:42:14.442565Z"
    }
   },
   "outputs": [
    {
     "data": {
      "text/html": [
       "<div>\n",
       "<style scoped>\n",
       "    .dataframe tbody tr th:only-of-type {\n",
       "        vertical-align: middle;\n",
       "    }\n",
       "\n",
       "    .dataframe tbody tr th {\n",
       "        vertical-align: top;\n",
       "    }\n",
       "\n",
       "    .dataframe thead th {\n",
       "        text-align: right;\n",
       "    }\n",
       "</style>\n",
       "<table border=\"1\" class=\"dataframe\">\n",
       "  <thead>\n",
       "    <tr style=\"text-align: right;\">\n",
       "      <th></th>\n",
       "      <th>Laboratory 1</th>\n",
       "      <th>Laboratory 2</th>\n",
       "      <th>Laboratory 3</th>\n",
       "      <th>Laboratory 4</th>\n",
       "    </tr>\n",
       "  </thead>\n",
       "  <tbody>\n",
       "    <tr>\n",
       "      <th>count</th>\n",
       "      <td>120.000000</td>\n",
       "      <td>120.000000</td>\n",
       "      <td>120.000000</td>\n",
       "      <td>120.00000</td>\n",
       "    </tr>\n",
       "    <tr>\n",
       "      <th>mean</th>\n",
       "      <td>178.361583</td>\n",
       "      <td>178.902917</td>\n",
       "      <td>199.913250</td>\n",
       "      <td>163.68275</td>\n",
       "    </tr>\n",
       "    <tr>\n",
       "      <th>std</th>\n",
       "      <td>13.173594</td>\n",
       "      <td>14.957114</td>\n",
       "      <td>16.539033</td>\n",
       "      <td>15.08508</td>\n",
       "    </tr>\n",
       "    <tr>\n",
       "      <th>min</th>\n",
       "      <td>138.300000</td>\n",
       "      <td>140.550000</td>\n",
       "      <td>159.690000</td>\n",
       "      <td>124.06000</td>\n",
       "    </tr>\n",
       "    <tr>\n",
       "      <th>25%</th>\n",
       "      <td>170.335000</td>\n",
       "      <td>168.025000</td>\n",
       "      <td>188.232500</td>\n",
       "      <td>154.05000</td>\n",
       "    </tr>\n",
       "    <tr>\n",
       "      <th>50%</th>\n",
       "      <td>178.530000</td>\n",
       "      <td>178.870000</td>\n",
       "      <td>199.805000</td>\n",
       "      <td>164.42500</td>\n",
       "    </tr>\n",
       "    <tr>\n",
       "      <th>75%</th>\n",
       "      <td>186.535000</td>\n",
       "      <td>189.112500</td>\n",
       "      <td>211.332500</td>\n",
       "      <td>172.88250</td>\n",
       "    </tr>\n",
       "    <tr>\n",
       "      <th>max</th>\n",
       "      <td>216.390000</td>\n",
       "      <td>217.860000</td>\n",
       "      <td>238.700000</td>\n",
       "      <td>205.18000</td>\n",
       "    </tr>\n",
       "  </tbody>\n",
       "</table>\n",
       "</div>"
      ],
      "text/plain": [
       "       Laboratory 1  Laboratory 2  Laboratory 3  Laboratory 4\n",
       "count    120.000000    120.000000    120.000000     120.00000\n",
       "mean     178.361583    178.902917    199.913250     163.68275\n",
       "std       13.173594     14.957114     16.539033      15.08508\n",
       "min      138.300000    140.550000    159.690000     124.06000\n",
       "25%      170.335000    168.025000    188.232500     154.05000\n",
       "50%      178.530000    178.870000    199.805000     164.42500\n",
       "75%      186.535000    189.112500    211.332500     172.88250\n",
       "max      216.390000    217.860000    238.700000     205.18000"
      ]
     },
     "execution_count": 106,
     "metadata": {},
     "output_type": "execute_result"
    }
   ],
   "source": [
    "df1.describe()"
   ]
  },
  {
   "cell_type": "code",
   "execution_count": 107,
   "id": "9eaf99eb",
   "metadata": {
    "ExecuteTime": {
     "end_time": "2023-04-14T16:42:14.676353Z",
     "start_time": "2023-04-14T16:42:14.626010Z"
    }
   },
   "outputs": [
    {
     "data": {
      "text/plain": [
       "Laboratory 1    173.543568\n",
       "Laboratory 2    223.715251\n",
       "Laboratory 3    273.539607\n",
       "Laboratory 4    227.559632\n",
       "dtype: float64"
      ]
     },
     "execution_count": 107,
     "metadata": {},
     "output_type": "execute_result"
    }
   ],
   "source": [
    "df1.var()"
   ]
  },
  {
   "cell_type": "code",
   "execution_count": 108,
   "id": "12c35be2",
   "metadata": {
    "ExecuteTime": {
     "end_time": "2023-04-14T16:42:15.426797Z",
     "start_time": "2023-04-14T16:42:15.404827Z"
    }
   },
   "outputs": [],
   "source": [
    "normality1 = shapiro(df1['Laboratory 1'])"
   ]
  },
  {
   "cell_type": "code",
   "execution_count": 109,
   "id": "692fad6e",
   "metadata": {
    "ExecuteTime": {
     "end_time": "2023-04-14T16:42:15.757594Z",
     "start_time": "2023-04-14T16:42:15.741933Z"
    }
   },
   "outputs": [],
   "source": [
    "normality2 = shapiro(df1['Laboratory 2'])"
   ]
  },
  {
   "cell_type": "code",
   "execution_count": 110,
   "id": "9bafde8b",
   "metadata": {
    "ExecuteTime": {
     "end_time": "2023-04-14T16:42:15.968582Z",
     "start_time": "2023-04-14T16:42:15.937522Z"
    }
   },
   "outputs": [],
   "source": [
    "normality3 = shapiro(df1['Laboratory 3'])"
   ]
  },
  {
   "cell_type": "code",
   "execution_count": 111,
   "id": "0facc45b",
   "metadata": {
    "ExecuteTime": {
     "end_time": "2023-04-14T16:42:16.172324Z",
     "start_time": "2023-04-14T16:42:16.141079Z"
    }
   },
   "outputs": [],
   "source": [
    "normality4 = shapiro(df1['Laboratory 4'])"
   ]
  },
  {
   "cell_type": "code",
   "execution_count": 112,
   "id": "3754381b",
   "metadata": {
    "ExecuteTime": {
     "end_time": "2023-04-14T16:42:16.363738Z",
     "start_time": "2023-04-14T16:42:16.332534Z"
    }
   },
   "outputs": [
    {
     "name": "stdout",
     "output_type": "stream",
     "text": [
      "ShapiroResult(statistic=0.9901824593544006, pvalue=0.5506953597068787) ShapiroResult(statistic=0.9936322569847107, pvalue=0.8637524843215942) ShapiroResult(statistic=0.9886345267295837, pvalue=0.4205053448677063) ShapiroResult(statistic=0.9913753271102905, pvalue=0.6618951559066772)\n"
     ]
    }
   ],
   "source": [
    "print(normality1, normality2, normality3, normality4 )"
   ]
  },
  {
   "cell_type": "code",
   "execution_count": 113,
   "id": "3dc1ba8e",
   "metadata": {
    "ExecuteTime": {
     "end_time": "2023-04-14T16:42:16.571675Z",
     "start_time": "2023-04-14T16:42:16.543589Z"
    }
   },
   "outputs": [],
   "source": [
    "df1_pval = stats.f_oneway(df1['Laboratory 1'], df1['Laboratory 2'], df1['Laboratory 3'], df1['Laboratory 4'])"
   ]
  },
  {
   "cell_type": "code",
   "execution_count": 114,
   "id": "0415dbb7",
   "metadata": {
    "ExecuteTime": {
     "end_time": "2023-04-14T16:42:16.790105Z",
     "start_time": "2023-04-14T16:42:16.758821Z"
    }
   },
   "outputs": [
    {
     "data": {
      "text/plain": [
       "F_onewayResult(statistic=118.70421654401437, pvalue=2.1156708949992414e-57)"
      ]
     },
     "execution_count": 114,
     "metadata": {},
     "output_type": "execute_result"
    }
   ],
   "source": [
    "df1_pval"
   ]
  },
  {
   "cell_type": "code",
   "execution_count": 115,
   "id": "df1d49c8",
   "metadata": {
    "ExecuteTime": {
     "end_time": "2023-04-14T16:42:16.976062Z",
     "start_time": "2023-04-14T16:42:16.960104Z"
    }
   },
   "outputs": [],
   "source": [
    "# df1_pval is very less than 0.05 so we reject Ho "
   ]
  },
  {
   "cell_type": "markdown",
   "id": "644b13cf",
   "metadata": {},
   "source": [
    "Q3"
   ]
  },
  {
   "cell_type": "code",
   "execution_count": 116,
   "id": "b3c14219",
   "metadata": {
    "ExecuteTime": {
     "end_time": "2023-04-14T16:42:18.099403Z",
     "start_time": "2023-04-14T16:42:18.076827Z"
    }
   },
   "outputs": [],
   "source": [
    "buy = pd.read_csv(\"D:\\Assignment\\BuyerRatio.csv\")"
   ]
  },
  {
   "cell_type": "code",
   "execution_count": 117,
   "id": "45be029d",
   "metadata": {
    "ExecuteTime": {
     "end_time": "2023-04-14T16:42:18.549490Z",
     "start_time": "2023-04-14T16:42:18.525557Z"
    }
   },
   "outputs": [
    {
     "data": {
      "text/html": [
       "<div>\n",
       "<style scoped>\n",
       "    .dataframe tbody tr th:only-of-type {\n",
       "        vertical-align: middle;\n",
       "    }\n",
       "\n",
       "    .dataframe tbody tr th {\n",
       "        vertical-align: top;\n",
       "    }\n",
       "\n",
       "    .dataframe thead th {\n",
       "        text-align: right;\n",
       "    }\n",
       "</style>\n",
       "<table border=\"1\" class=\"dataframe\">\n",
       "  <thead>\n",
       "    <tr style=\"text-align: right;\">\n",
       "      <th></th>\n",
       "      <th>Observed Values</th>\n",
       "      <th>East</th>\n",
       "      <th>West</th>\n",
       "      <th>North</th>\n",
       "      <th>South</th>\n",
       "    </tr>\n",
       "  </thead>\n",
       "  <tbody>\n",
       "    <tr>\n",
       "      <th>0</th>\n",
       "      <td>Males</td>\n",
       "      <td>50</td>\n",
       "      <td>142</td>\n",
       "      <td>131</td>\n",
       "      <td>70</td>\n",
       "    </tr>\n",
       "    <tr>\n",
       "      <th>1</th>\n",
       "      <td>Females</td>\n",
       "      <td>435</td>\n",
       "      <td>1523</td>\n",
       "      <td>1356</td>\n",
       "      <td>750</td>\n",
       "    </tr>\n",
       "  </tbody>\n",
       "</table>\n",
       "</div>"
      ],
      "text/plain": [
       "  Observed Values  East  West  North  South\n",
       "0           Males    50   142    131     70\n",
       "1         Females   435  1523   1356    750"
      ]
     },
     "execution_count": 117,
     "metadata": {},
     "output_type": "execute_result"
    }
   ],
   "source": [
    "buy"
   ]
  },
  {
   "cell_type": "code",
   "execution_count": 118,
   "id": "b19c7e8c",
   "metadata": {
    "ExecuteTime": {
     "end_time": "2023-04-14T16:42:19.259952Z",
     "start_time": "2023-04-14T16:42:19.228957Z"
    }
   },
   "outputs": [
    {
     "data": {
      "text/html": [
       "<div>\n",
       "<style scoped>\n",
       "    .dataframe tbody tr th:only-of-type {\n",
       "        vertical-align: middle;\n",
       "    }\n",
       "\n",
       "    .dataframe tbody tr th {\n",
       "        vertical-align: top;\n",
       "    }\n",
       "\n",
       "    .dataframe thead th {\n",
       "        text-align: right;\n",
       "    }\n",
       "</style>\n",
       "<table border=\"1\" class=\"dataframe\">\n",
       "  <thead>\n",
       "    <tr style=\"text-align: right;\">\n",
       "      <th></th>\n",
       "      <th>East</th>\n",
       "      <th>West</th>\n",
       "      <th>North</th>\n",
       "      <th>South</th>\n",
       "    </tr>\n",
       "  </thead>\n",
       "  <tbody>\n",
       "    <tr>\n",
       "      <th>count</th>\n",
       "      <td>2.000000</td>\n",
       "      <td>2.000000</td>\n",
       "      <td>2.000000</td>\n",
       "      <td>2.000000</td>\n",
       "    </tr>\n",
       "    <tr>\n",
       "      <th>mean</th>\n",
       "      <td>242.500000</td>\n",
       "      <td>832.500000</td>\n",
       "      <td>743.500000</td>\n",
       "      <td>410.000000</td>\n",
       "    </tr>\n",
       "    <tr>\n",
       "      <th>std</th>\n",
       "      <td>272.236111</td>\n",
       "      <td>976.514465</td>\n",
       "      <td>866.205807</td>\n",
       "      <td>480.832611</td>\n",
       "    </tr>\n",
       "    <tr>\n",
       "      <th>min</th>\n",
       "      <td>50.000000</td>\n",
       "      <td>142.000000</td>\n",
       "      <td>131.000000</td>\n",
       "      <td>70.000000</td>\n",
       "    </tr>\n",
       "    <tr>\n",
       "      <th>25%</th>\n",
       "      <td>146.250000</td>\n",
       "      <td>487.250000</td>\n",
       "      <td>437.250000</td>\n",
       "      <td>240.000000</td>\n",
       "    </tr>\n",
       "    <tr>\n",
       "      <th>50%</th>\n",
       "      <td>242.500000</td>\n",
       "      <td>832.500000</td>\n",
       "      <td>743.500000</td>\n",
       "      <td>410.000000</td>\n",
       "    </tr>\n",
       "    <tr>\n",
       "      <th>75%</th>\n",
       "      <td>338.750000</td>\n",
       "      <td>1177.750000</td>\n",
       "      <td>1049.750000</td>\n",
       "      <td>580.000000</td>\n",
       "    </tr>\n",
       "    <tr>\n",
       "      <th>max</th>\n",
       "      <td>435.000000</td>\n",
       "      <td>1523.000000</td>\n",
       "      <td>1356.000000</td>\n",
       "      <td>750.000000</td>\n",
       "    </tr>\n",
       "  </tbody>\n",
       "</table>\n",
       "</div>"
      ],
      "text/plain": [
       "             East         West        North       South\n",
       "count    2.000000     2.000000     2.000000    2.000000\n",
       "mean   242.500000   832.500000   743.500000  410.000000\n",
       "std    272.236111   976.514465   866.205807  480.832611\n",
       "min     50.000000   142.000000   131.000000   70.000000\n",
       "25%    146.250000   487.250000   437.250000  240.000000\n",
       "50%    242.500000   832.500000   743.500000  410.000000\n",
       "75%    338.750000  1177.750000  1049.750000  580.000000\n",
       "max    435.000000  1523.000000  1356.000000  750.000000"
      ]
     },
     "execution_count": 118,
     "metadata": {},
     "output_type": "execute_result"
    }
   ],
   "source": [
    "buy.describe()"
   ]
  },
  {
   "cell_type": "code",
   "execution_count": 119,
   "id": "c5727242",
   "metadata": {
    "ExecuteTime": {
     "end_time": "2023-04-14T16:42:48.117580Z",
     "start_time": "2023-04-14T16:42:48.102088Z"
    }
   },
   "outputs": [],
   "source": [
    "array = np.array(buy)"
   ]
  },
  {
   "cell_type": "code",
   "execution_count": 120,
   "id": "c3cce61c",
   "metadata": {
    "ExecuteTime": {
     "end_time": "2023-04-14T16:42:50.778744Z",
     "start_time": "2023-04-14T16:42:50.753403Z"
    }
   },
   "outputs": [
    {
     "data": {
      "text/plain": [
       "array([['Males', 50, 142, 131, 70],\n",
       "       ['Females', 435, 1523, 1356, 750]], dtype=object)"
      ]
     },
     "execution_count": 120,
     "metadata": {},
     "output_type": "execute_result"
    }
   ],
   "source": [
    "array"
   ]
  },
  {
   "cell_type": "code",
   "execution_count": 121,
   "id": "7e762a76",
   "metadata": {
    "ExecuteTime": {
     "end_time": "2023-04-14T16:44:30.912539Z",
     "start_time": "2023-04-14T16:44:30.888606Z"
    }
   },
   "outputs": [],
   "source": [
    "table = [[50, 142, 131, 70],[435, 1523, 1356, 750]]"
   ]
  },
  {
   "cell_type": "code",
   "execution_count": 122,
   "id": "4a02e602",
   "metadata": {
    "ExecuteTime": {
     "end_time": "2023-04-14T16:44:34.043711Z",
     "start_time": "2023-04-14T16:44:34.030711Z"
    }
   },
   "outputs": [
    {
     "data": {
      "text/plain": [
       "[[50, 142, 131, 70], [435, 1523, 1356, 750]]"
      ]
     },
     "execution_count": 122,
     "metadata": {},
     "output_type": "execute_result"
    }
   ],
   "source": [
    "table"
   ]
  },
  {
   "cell_type": "code",
   "execution_count": 123,
   "id": "84780385",
   "metadata": {
    "ExecuteTime": {
     "end_time": "2023-04-14T16:44:58.942109Z",
     "start_time": "2023-04-14T16:44:58.918170Z"
    }
   },
   "outputs": [],
   "source": [
    "chi_test = stats.chi2_contingency(table)"
   ]
  },
  {
   "cell_type": "code",
   "execution_count": 124,
   "id": "4e50dc1a",
   "metadata": {
    "ExecuteTime": {
     "end_time": "2023-04-14T16:45:01.743462Z",
     "start_time": "2023-04-14T16:45:01.718528Z"
    }
   },
   "outputs": [
    {
     "data": {
      "text/plain": [
       "(1.595945538661058,\n",
       " 0.6603094907091882,\n",
       " 3,\n",
       " array([[  42.76531299,  146.81287862,  131.11756787,   72.30424052],\n",
       "        [ 442.23468701, 1518.18712138, 1355.88243213,  747.69575948]]))"
      ]
     },
     "execution_count": 124,
     "metadata": {},
     "output_type": "execute_result"
    }
   ],
   "source": [
    "chi_test"
   ]
  },
  {
   "cell_type": "code",
   "execution_count": 125,
   "id": "d7f1bdde",
   "metadata": {
    "ExecuteTime": {
     "end_time": "2023-04-14T16:45:46.169625Z",
     "start_time": "2023-04-14T16:45:46.154000Z"
    }
   },
   "outputs": [],
   "source": [
    "#(stats, p_val, degree of freedom, expected values)"
   ]
  },
  {
   "cell_type": "code",
   "execution_count": 126,
   "id": "c92900fa",
   "metadata": {
    "ExecuteTime": {
     "end_time": "2023-04-14T16:46:15.009871Z",
     "start_time": "2023-04-14T16:46:14.994246Z"
    }
   },
   "outputs": [],
   "source": [
    "#P_val = 0.66 > that alpha 0.05"
   ]
  },
  {
   "cell_type": "code",
   "execution_count": 127,
   "id": "bd1e4176",
   "metadata": {
    "ExecuteTime": {
     "end_time": "2023-04-14T16:46:24.552038Z",
     "start_time": "2023-04-14T16:46:24.540038Z"
    }
   },
   "outputs": [],
   "source": [
    "# Ho is accepted"
   ]
  },
  {
   "cell_type": "markdown",
   "id": "64dad531",
   "metadata": {
    "ExecuteTime": {
     "end_time": "2023-04-14T16:47:00.703797Z",
     "start_time": "2023-04-14T16:47:00.571498Z"
    }
   },
   "source": [
    "Q4"
   ]
  },
  {
   "cell_type": "code",
   "execution_count": 129,
   "id": "18f99c7a",
   "metadata": {
    "ExecuteTime": {
     "end_time": "2023-04-14T16:49:10.501067Z",
     "start_time": "2023-04-14T16:49:10.469609Z"
    }
   },
   "outputs": [],
   "source": [
    "cus_order = pd.read_csv(\"D:\\Assignment\\Costomer+OrderForm.csv\")"
   ]
  },
  {
   "cell_type": "code",
   "execution_count": 130,
   "id": "6127e312",
   "metadata": {
    "ExecuteTime": {
     "end_time": "2023-04-14T16:49:16.925589Z",
     "start_time": "2023-04-14T16:49:16.906670Z"
    }
   },
   "outputs": [
    {
     "data": {
      "text/html": [
       "<div>\n",
       "<style scoped>\n",
       "    .dataframe tbody tr th:only-of-type {\n",
       "        vertical-align: middle;\n",
       "    }\n",
       "\n",
       "    .dataframe tbody tr th {\n",
       "        vertical-align: top;\n",
       "    }\n",
       "\n",
       "    .dataframe thead th {\n",
       "        text-align: right;\n",
       "    }\n",
       "</style>\n",
       "<table border=\"1\" class=\"dataframe\">\n",
       "  <thead>\n",
       "    <tr style=\"text-align: right;\">\n",
       "      <th></th>\n",
       "      <th>Phillippines</th>\n",
       "      <th>Indonesia</th>\n",
       "      <th>Malta</th>\n",
       "      <th>India</th>\n",
       "    </tr>\n",
       "  </thead>\n",
       "  <tbody>\n",
       "    <tr>\n",
       "      <th>0</th>\n",
       "      <td>Error Free</td>\n",
       "      <td>Error Free</td>\n",
       "      <td>Defective</td>\n",
       "      <td>Error Free</td>\n",
       "    </tr>\n",
       "    <tr>\n",
       "      <th>1</th>\n",
       "      <td>Error Free</td>\n",
       "      <td>Error Free</td>\n",
       "      <td>Error Free</td>\n",
       "      <td>Defective</td>\n",
       "    </tr>\n",
       "    <tr>\n",
       "      <th>2</th>\n",
       "      <td>Error Free</td>\n",
       "      <td>Defective</td>\n",
       "      <td>Defective</td>\n",
       "      <td>Error Free</td>\n",
       "    </tr>\n",
       "    <tr>\n",
       "      <th>3</th>\n",
       "      <td>Error Free</td>\n",
       "      <td>Error Free</td>\n",
       "      <td>Error Free</td>\n",
       "      <td>Error Free</td>\n",
       "    </tr>\n",
       "    <tr>\n",
       "      <th>4</th>\n",
       "      <td>Error Free</td>\n",
       "      <td>Error Free</td>\n",
       "      <td>Defective</td>\n",
       "      <td>Error Free</td>\n",
       "    </tr>\n",
       "    <tr>\n",
       "      <th>...</th>\n",
       "      <td>...</td>\n",
       "      <td>...</td>\n",
       "      <td>...</td>\n",
       "      <td>...</td>\n",
       "    </tr>\n",
       "    <tr>\n",
       "      <th>295</th>\n",
       "      <td>Error Free</td>\n",
       "      <td>Error Free</td>\n",
       "      <td>Error Free</td>\n",
       "      <td>Error Free</td>\n",
       "    </tr>\n",
       "    <tr>\n",
       "      <th>296</th>\n",
       "      <td>Error Free</td>\n",
       "      <td>Error Free</td>\n",
       "      <td>Error Free</td>\n",
       "      <td>Error Free</td>\n",
       "    </tr>\n",
       "    <tr>\n",
       "      <th>297</th>\n",
       "      <td>Error Free</td>\n",
       "      <td>Error Free</td>\n",
       "      <td>Defective</td>\n",
       "      <td>Error Free</td>\n",
       "    </tr>\n",
       "    <tr>\n",
       "      <th>298</th>\n",
       "      <td>Error Free</td>\n",
       "      <td>Error Free</td>\n",
       "      <td>Error Free</td>\n",
       "      <td>Error Free</td>\n",
       "    </tr>\n",
       "    <tr>\n",
       "      <th>299</th>\n",
       "      <td>Error Free</td>\n",
       "      <td>Defective</td>\n",
       "      <td>Defective</td>\n",
       "      <td>Error Free</td>\n",
       "    </tr>\n",
       "  </tbody>\n",
       "</table>\n",
       "<p>300 rows × 4 columns</p>\n",
       "</div>"
      ],
      "text/plain": [
       "    Phillippines   Indonesia       Malta       India\n",
       "0     Error Free  Error Free   Defective  Error Free\n",
       "1     Error Free  Error Free  Error Free   Defective\n",
       "2     Error Free   Defective   Defective  Error Free\n",
       "3     Error Free  Error Free  Error Free  Error Free\n",
       "4     Error Free  Error Free   Defective  Error Free\n",
       "..           ...         ...         ...         ...\n",
       "295   Error Free  Error Free  Error Free  Error Free\n",
       "296   Error Free  Error Free  Error Free  Error Free\n",
       "297   Error Free  Error Free   Defective  Error Free\n",
       "298   Error Free  Error Free  Error Free  Error Free\n",
       "299   Error Free   Defective   Defective  Error Free\n",
       "\n",
       "[300 rows x 4 columns]"
      ]
     },
     "execution_count": 130,
     "metadata": {},
     "output_type": "execute_result"
    }
   ],
   "source": [
    "cus_order"
   ]
  },
  {
   "cell_type": "code",
   "execution_count": 131,
   "id": "38ff50e0",
   "metadata": {
    "ExecuteTime": {
     "end_time": "2023-04-14T16:50:34.869407Z",
     "start_time": "2023-04-14T16:50:34.823530Z"
    }
   },
   "outputs": [
    {
     "data": {
      "text/html": [
       "<div>\n",
       "<style scoped>\n",
       "    .dataframe tbody tr th:only-of-type {\n",
       "        vertical-align: middle;\n",
       "    }\n",
       "\n",
       "    .dataframe tbody tr th {\n",
       "        vertical-align: top;\n",
       "    }\n",
       "\n",
       "    .dataframe thead th {\n",
       "        text-align: right;\n",
       "    }\n",
       "</style>\n",
       "<table border=\"1\" class=\"dataframe\">\n",
       "  <thead>\n",
       "    <tr style=\"text-align: right;\">\n",
       "      <th></th>\n",
       "      <th>Phillippines</th>\n",
       "      <th>Indonesia</th>\n",
       "      <th>Malta</th>\n",
       "      <th>India</th>\n",
       "    </tr>\n",
       "  </thead>\n",
       "  <tbody>\n",
       "    <tr>\n",
       "      <th>count</th>\n",
       "      <td>300</td>\n",
       "      <td>300</td>\n",
       "      <td>300</td>\n",
       "      <td>300</td>\n",
       "    </tr>\n",
       "    <tr>\n",
       "      <th>unique</th>\n",
       "      <td>2</td>\n",
       "      <td>2</td>\n",
       "      <td>2</td>\n",
       "      <td>2</td>\n",
       "    </tr>\n",
       "    <tr>\n",
       "      <th>top</th>\n",
       "      <td>Error Free</td>\n",
       "      <td>Error Free</td>\n",
       "      <td>Error Free</td>\n",
       "      <td>Error Free</td>\n",
       "    </tr>\n",
       "    <tr>\n",
       "      <th>freq</th>\n",
       "      <td>271</td>\n",
       "      <td>267</td>\n",
       "      <td>269</td>\n",
       "      <td>280</td>\n",
       "    </tr>\n",
       "  </tbody>\n",
       "</table>\n",
       "</div>"
      ],
      "text/plain": [
       "       Phillippines   Indonesia       Malta       India\n",
       "count           300         300         300         300\n",
       "unique            2           2           2           2\n",
       "top      Error Free  Error Free  Error Free  Error Free\n",
       "freq            271         267         269         280"
      ]
     },
     "execution_count": 131,
     "metadata": {},
     "output_type": "execute_result"
    }
   ],
   "source": [
    "cus_order.describe()"
   ]
  },
  {
   "cell_type": "code",
   "execution_count": 134,
   "id": "9e21acb8",
   "metadata": {
    "ExecuteTime": {
     "end_time": "2023-04-14T16:51:06.660724Z",
     "start_time": "2023-04-14T16:51:06.579058Z"
    }
   },
   "outputs": [
    {
     "name": "stdout",
     "output_type": "stream",
     "text": [
      "<class 'pandas.core.frame.DataFrame'>\n",
      "RangeIndex: 300 entries, 0 to 299\n",
      "Data columns (total 4 columns):\n",
      " #   Column        Non-Null Count  Dtype \n",
      "---  ------        --------------  ----- \n",
      " 0   Phillippines  300 non-null    object\n",
      " 1   Indonesia     300 non-null    object\n",
      " 2   Malta         300 non-null    object\n",
      " 3   India         300 non-null    object\n",
      "dtypes: object(4)\n",
      "memory usage: 9.5+ KB\n"
     ]
    }
   ],
   "source": [
    "cus_order.info()"
   ]
  },
  {
   "cell_type": "code",
   "execution_count": 139,
   "id": "07701943",
   "metadata": {
    "ExecuteTime": {
     "end_time": "2023-04-14T16:53:58.630248Z",
     "start_time": "2023-04-14T16:53:58.608309Z"
    }
   },
   "outputs": [
    {
     "data": {
      "text/plain": [
       "Error Free    280\n",
       "Defective      20\n",
       "Name: India, dtype: int64"
      ]
     },
     "execution_count": 139,
     "metadata": {},
     "output_type": "execute_result"
    }
   ],
   "source": [
    "cus_order.India.value_counts()"
   ]
  },
  {
   "cell_type": "code",
   "execution_count": 140,
   "id": "efe5901c",
   "metadata": {
    "ExecuteTime": {
     "end_time": "2023-04-14T16:54:14.185899Z",
     "start_time": "2023-04-14T16:54:14.174929Z"
    }
   },
   "outputs": [
    {
     "data": {
      "text/plain": [
       "Error Free    271\n",
       "Defective      29\n",
       "Name: Phillippines, dtype: int64"
      ]
     },
     "execution_count": 140,
     "metadata": {},
     "output_type": "execute_result"
    }
   ],
   "source": [
    "cus_order.Phillippines.value_counts()"
   ]
  },
  {
   "cell_type": "code",
   "execution_count": 141,
   "id": "29a58c6d",
   "metadata": {
    "ExecuteTime": {
     "end_time": "2023-04-14T16:54:21.633874Z",
     "start_time": "2023-04-14T16:54:21.620908Z"
    }
   },
   "outputs": [
    {
     "data": {
      "text/plain": [
       "Error Free    269\n",
       "Defective      31\n",
       "Name: Malta, dtype: int64"
      ]
     },
     "execution_count": 141,
     "metadata": {},
     "output_type": "execute_result"
    }
   ],
   "source": [
    "cus_order.Malta.value_counts()"
   ]
  },
  {
   "cell_type": "code",
   "execution_count": 142,
   "id": "0728a368",
   "metadata": {
    "ExecuteTime": {
     "end_time": "2023-04-14T16:54:31.988037Z",
     "start_time": "2023-04-14T16:54:31.969087Z"
    }
   },
   "outputs": [
    {
     "data": {
      "text/plain": [
       "Error Free    267\n",
       "Defective      33\n",
       "Name: Indonesia, dtype: int64"
      ]
     },
     "execution_count": 142,
     "metadata": {},
     "output_type": "execute_result"
    }
   ],
   "source": [
    "cus_order.Indonesia.value_counts()"
   ]
  },
  {
   "cell_type": "code",
   "execution_count": 175,
   "id": "5c6062d4",
   "metadata": {
    "ExecuteTime": {
     "end_time": "2023-04-14T17:07:00.403925Z",
     "start_time": "2023-04-14T17:07:00.389934Z"
    }
   },
   "outputs": [],
   "source": [
    "con_table = [[280, 271, 269, 267], [20, 29, 31, 33]]"
   ]
  },
  {
   "cell_type": "code",
   "execution_count": 176,
   "id": "85b37ba0",
   "metadata": {
    "ExecuteTime": {
     "end_time": "2023-04-14T17:07:00.789069Z",
     "start_time": "2023-04-14T17:07:00.756631Z"
    }
   },
   "outputs": [
    {
     "data": {
      "text/plain": [
       "[[280, 271, 269, 267], [20, 29, 31, 33]]"
      ]
     },
     "execution_count": 176,
     "metadata": {},
     "output_type": "execute_result"
    }
   ],
   "source": [
    "con_table"
   ]
  },
  {
   "cell_type": "code",
   "execution_count": 177,
   "id": "bc0af93f",
   "metadata": {
    "ExecuteTime": {
     "end_time": "2023-04-14T17:07:01.141223Z",
     "start_time": "2023-04-14T17:07:01.110754Z"
    }
   },
   "outputs": [],
   "source": [
    "con_chi = stats.chi2_contingency(con_table)"
   ]
  },
  {
   "cell_type": "code",
   "execution_count": 178,
   "id": "e9ea856d",
   "metadata": {
    "ExecuteTime": {
     "end_time": "2023-04-14T17:07:01.670453Z",
     "start_time": "2023-04-14T17:07:01.654001Z"
    }
   },
   "outputs": [
    {
     "data": {
      "text/plain": [
       "(3.858960685820355,\n",
       " 0.2771020991233135,\n",
       " 3,\n",
       " array([[271.75, 271.75, 271.75, 271.75],\n",
       "        [ 28.25,  28.25,  28.25,  28.25]]))"
      ]
     },
     "execution_count": 178,
     "metadata": {},
     "output_type": "execute_result"
    }
   ],
   "source": [
    "con_chi"
   ]
  },
  {
   "cell_type": "code",
   "execution_count": 180,
   "id": "2d645e58",
   "metadata": {
    "ExecuteTime": {
     "end_time": "2023-04-14T17:08:40.269553Z",
     "start_time": "2023-04-14T17:08:40.255590Z"
    }
   },
   "outputs": [],
   "source": [
    "# p_ val = 0.277 gretw=er than 0.05 "
   ]
  },
  {
   "cell_type": "code",
   "execution_count": 181,
   "id": "a5b60344",
   "metadata": {
    "ExecuteTime": {
     "end_time": "2023-04-14T17:08:48.518823Z",
     "start_time": "2023-04-14T17:08:48.503166Z"
    }
   },
   "outputs": [],
   "source": [
    "#Hence H0 is accepted that diffevtive acrossthe countries are similar"
   ]
  },
  {
   "cell_type": "code",
   "execution_count": null,
   "id": "134afe20",
   "metadata": {},
   "outputs": [],
   "source": []
  }
 ],
 "metadata": {
  "kernelspec": {
   "display_name": "Python 3 (ipykernel)",
   "language": "python",
   "name": "python3"
  },
  "language_info": {
   "codemirror_mode": {
    "name": "ipython",
    "version": 3
   },
   "file_extension": ".py",
   "mimetype": "text/x-python",
   "name": "python",
   "nbconvert_exporter": "python",
   "pygments_lexer": "ipython3",
   "version": "3.9.12"
  }
 },
 "nbformat": 4,
 "nbformat_minor": 5
}
